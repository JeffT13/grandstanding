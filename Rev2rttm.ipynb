{
 "cells": [
  {
   "cell_type": "code",
   "execution_count": 1,
   "metadata": {},
   "outputs": [],
   "source": [
    "import datetime, os, json"
   ]
  },
  {
   "cell_type": "code",
   "execution_count": 2,
   "metadata": {},
   "outputs": [],
   "source": [
    "read_pth = 'data/rev/'\n",
    "cases = []\n",
    "for file in os.listdir(read_pth):\n",
    "    f = open(read_pth+file, 'r')\n",
    "    data = f.read()\n",
    "    cases.append((file.split('.')[0], data))\n",
    "    f.close()"
   ]
  },
  {
   "cell_type": "code",
   "execution_count": 3,
   "metadata": {},
   "outputs": [],
   "source": [
    "spkr_dict = dict()\n",
    "rttms = {}\n",
    "label = 30\n",
    "cnt = 0\n",
    "for file in cases:\n",
    "    case = []\n",
    "    rttm = []\n",
    "    for line in file[1].split('\\n\\n')[:-1]:\n",
    "        temp, text = line.split(':\\n')\n",
    "        name, time_str = temp.split('(')\n",
    "        name = name.strip()\n",
    "        try:\n",
    "            time = datetime.datetime.strptime(time_str.strip(')'), '%H:%M:%S')\n",
    "        except:\n",
    "            time = datetime.datetime.strptime(time_str.strip(')'), '%M:%S')\n",
    "        case.append((name, time, text))\n",
    "        if len(case)>1:\n",
    "            spkr = str('_'.join(case[-2][0].split(' ')))\n",
    "            diff = (case[-1][1]-case[-2][1]).total_seconds()\n",
    "            t = case[-2][1].time()\n",
    "            rttm.append(' '.join(['SPEAKER '+file[0]+' 1', str(t.hour*3600 + t.minute*60 + t.second), str(diff), '<NA> <NA>', spkr,'<NA> <NA>']))\n",
    "            if spkr[:5]=='Judge':\n",
    "                if spkr not in spkr_dict:\n",
    "                    spkr_dict[spkr] = cnt\n",
    "                    cnt+=1\n",
    "                    if cnt>=30:\n",
    "                        print(\"ERROR: NEED MORE JUDGE ROOM\")\n",
    "            else:\n",
    "                if spkr not in spkr_dict:\n",
    "                    spkr_dict[spkr] = label\n",
    "                    label+=1       \n",
    "    rttms[file[0]] = rttm"
   ]
  },
  {
   "cell_type": "code",
   "execution_count": 4,
   "metadata": {},
   "outputs": [
    {
     "name": "stdout",
     "output_type": "stream",
     "text": [
      "RTTM for 09-71415 exists\n",
      "RTTM for 09-71491 exists\n",
      "RTTM for 11-17454 exists\n",
      "Wrote RTTM for 12-15211\n",
      "RTTM for 12-55396 exists\n",
      "RTTM for 13-70167 exists\n",
      "Wrote RTTM for 14-35393\n"
     ]
    }
   ],
   "source": [
    "write_pth = 'data/rev_rttm_temp/'\n",
    "for key in rttms.keys():\n",
    "    if not os.path.exists(write_pth+key+'.rttm'):\n",
    "        with open(write_pth+key+'.rttm', 'w') as filehandle:\n",
    "            for listitem in rttms[key]:\n",
    "                filehandle.write('%s\\n' % listitem)\n",
    "        print('Wrote RTTM for', key)\n",
    "    else:\n",
    "        print('RTTM for', key, 'exists')\n",
    "with open('data/spkr_dict.json', 'w') as outfile:  \n",
    "    json.dump(spkr_dict, outfile) "
   ]
  },
  {
   "cell_type": "code",
   "execution_count": 5,
   "metadata": {},
   "outputs": [
    {
     "name": "stdout",
     "output_type": "stream",
     "text": [
      "['Judge_Gould', 'Judge_Watford', 'Judge_Tallman', 'Judge_Acuta', 'Judge_NSmith', 'Judge_Kozinski', 'Judge_Clifton', 'Judge_Paez', 'Judge_Wardlaw', 'Judge_MSmith', 'Judge_Friedland', 'Judge_Ituka', \"Judge_O'Scallian\", 'Judge_Thomas', 'Judge_Berzon', 'Judge_Bybee', 'Judge_Graber', 'Julia_Releskaya', 'Judge_Callahan', 'Judge_Wallace']\n"
     ]
    }
   ],
   "source": [
    "print([k for k in spkr_dict.keys() if k[0]=='J'])"
   ]
  },
  {
   "cell_type": "code",
   "execution_count": null,
   "metadata": {},
   "outputs": [],
   "source": []
  },
  {
   "cell_type": "code",
   "execution_count": null,
   "metadata": {},
   "outputs": [],
   "source": []
  }
 ],
 "metadata": {
  "kernelspec": {
   "display_name": "Python 3",
   "language": "python",
   "name": "python3"
  },
  "language_info": {
   "codemirror_mode": {
    "name": "ipython",
    "version": 3
   },
   "file_extension": ".py",
   "mimetype": "text/x-python",
   "name": "python",
   "nbconvert_exporter": "python",
   "pygments_lexer": "ipython3",
   "version": "3.7.6"
  }
 },
 "nbformat": 4,
 "nbformat_minor": 4
}
